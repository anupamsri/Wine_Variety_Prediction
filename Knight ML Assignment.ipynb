{
 "cells": [
  {
   "cell_type": "code",
   "execution_count": 54,
   "metadata": {},
   "outputs": [],
   "source": [
    "import pandas as pd\n",
    "import numpy as np\n",
    "from sklearn.preprocessing import LabelEncoder\n",
    "from nltk.corpus import stopwords\n",
    "import re\n",
    "from sklearn.feature_extraction.text import CountVectorizer\n",
    "from sklearn.model_selection import train_test_split\n",
    "from keras.models import Sequential\n",
    "from keras.layers import Dense\n",
    "sw = stopwords.words('english')"
   ]
  },
  {
   "cell_type": "code",
   "execution_count": 55,
   "metadata": {},
   "outputs": [],
   "source": [
    "df = pd.read_csv('train.csv')"
   ]
  },
  {
   "cell_type": "code",
   "execution_count": 56,
   "metadata": {},
   "outputs": [
    {
     "data": {
      "text/html": [
       "<div>\n",
       "<style scoped>\n",
       "    .dataframe tbody tr th:only-of-type {\n",
       "        vertical-align: middle;\n",
       "    }\n",
       "\n",
       "    .dataframe tbody tr th {\n",
       "        vertical-align: top;\n",
       "    }\n",
       "\n",
       "    .dataframe thead th {\n",
       "        text-align: right;\n",
       "    }\n",
       "</style>\n",
       "<table border=\"1\" class=\"dataframe\">\n",
       "  <thead>\n",
       "    <tr style=\"text-align: right;\">\n",
       "      <th></th>\n",
       "      <th>user_name</th>\n",
       "      <th>country</th>\n",
       "      <th>review_title</th>\n",
       "      <th>review_description</th>\n",
       "      <th>designation</th>\n",
       "      <th>points</th>\n",
       "      <th>price</th>\n",
       "      <th>province</th>\n",
       "      <th>region_1</th>\n",
       "      <th>region_2</th>\n",
       "      <th>winery</th>\n",
       "      <th>variety</th>\n",
       "    </tr>\n",
       "  </thead>\n",
       "  <tbody>\n",
       "    <tr>\n",
       "      <th>0</th>\n",
       "      <td>NaN</td>\n",
       "      <td>Australia</td>\n",
       "      <td>Andrew Peace 2007 Peace Family Vineyard Chardo...</td>\n",
       "      <td>Classic Chardonnay aromas of apple, pear and h...</td>\n",
       "      <td>Peace Family Vineyard</td>\n",
       "      <td>83</td>\n",
       "      <td>10.0</td>\n",
       "      <td>Australia Other</td>\n",
       "      <td>South Eastern Australia</td>\n",
       "      <td>NaN</td>\n",
       "      <td>Andrew Peace</td>\n",
       "      <td>Chardonnay</td>\n",
       "    </tr>\n",
       "    <tr>\n",
       "      <th>1</th>\n",
       "      <td>@wawinereport</td>\n",
       "      <td>US</td>\n",
       "      <td>North by Northwest 2014 Red (Columbia Valley (...</td>\n",
       "      <td>This wine is near equal parts Syrah and Merlot...</td>\n",
       "      <td>NaN</td>\n",
       "      <td>89</td>\n",
       "      <td>15.0</td>\n",
       "      <td>Washington</td>\n",
       "      <td>Columbia Valley (WA)</td>\n",
       "      <td>Columbia Valley</td>\n",
       "      <td>North by Northwest</td>\n",
       "      <td>Red Blend</td>\n",
       "    </tr>\n",
       "    <tr>\n",
       "      <th>2</th>\n",
       "      <td>NaN</td>\n",
       "      <td>Italy</td>\n",
       "      <td>Renato Ratti 2007 Conca  (Barolo)</td>\n",
       "      <td>Barolo Conca opens with inky dark concentratio...</td>\n",
       "      <td>Conca</td>\n",
       "      <td>94</td>\n",
       "      <td>80.0</td>\n",
       "      <td>Piedmont</td>\n",
       "      <td>Barolo</td>\n",
       "      <td>NaN</td>\n",
       "      <td>Renato Ratti</td>\n",
       "      <td>Nebbiolo</td>\n",
       "    </tr>\n",
       "    <tr>\n",
       "      <th>3</th>\n",
       "      <td>@vossroger</td>\n",
       "      <td>France</td>\n",
       "      <td>Domaine l'Ancienne Cure 2010 L'Abbaye White (B...</td>\n",
       "      <td>It's impressive what a small addition of Sauvi...</td>\n",
       "      <td>L'Abbaye</td>\n",
       "      <td>87</td>\n",
       "      <td>22.0</td>\n",
       "      <td>Southwest France</td>\n",
       "      <td>Bergerac Sec</td>\n",
       "      <td>NaN</td>\n",
       "      <td>Domaine l'Ancienne Cure</td>\n",
       "      <td>Bordeaux-style White Blend</td>\n",
       "    </tr>\n",
       "    <tr>\n",
       "      <th>4</th>\n",
       "      <td>@vossroger</td>\n",
       "      <td>France</td>\n",
       "      <td>Château du Cèdre 2012 Le Cèdre Vintage Malbec ...</td>\n",
       "      <td>This ripe, sweet wine is rich and full of drie...</td>\n",
       "      <td>Le Cèdre Vintage</td>\n",
       "      <td>88</td>\n",
       "      <td>33.0</td>\n",
       "      <td>France Other</td>\n",
       "      <td>Vin de Liqueur</td>\n",
       "      <td>NaN</td>\n",
       "      <td>Château du Cèdre</td>\n",
       "      <td>Malbec</td>\n",
       "    </tr>\n",
       "  </tbody>\n",
       "</table>\n",
       "</div>"
      ],
      "text/plain": [
       "       user_name    country  \\\n",
       "0            NaN  Australia   \n",
       "1  @wawinereport         US   \n",
       "2            NaN      Italy   \n",
       "3     @vossroger     France   \n",
       "4     @vossroger     France   \n",
       "\n",
       "                                        review_title  \\\n",
       "0  Andrew Peace 2007 Peace Family Vineyard Chardo...   \n",
       "1  North by Northwest 2014 Red (Columbia Valley (...   \n",
       "2                  Renato Ratti 2007 Conca  (Barolo)   \n",
       "3  Domaine l'Ancienne Cure 2010 L'Abbaye White (B...   \n",
       "4  Château du Cèdre 2012 Le Cèdre Vintage Malbec ...   \n",
       "\n",
       "                                  review_description            designation  \\\n",
       "0  Classic Chardonnay aromas of apple, pear and h...  Peace Family Vineyard   \n",
       "1  This wine is near equal parts Syrah and Merlot...                    NaN   \n",
       "2  Barolo Conca opens with inky dark concentratio...                  Conca   \n",
       "3  It's impressive what a small addition of Sauvi...               L'Abbaye   \n",
       "4  This ripe, sweet wine is rich and full of drie...       Le Cèdre Vintage   \n",
       "\n",
       "   points  price          province                 region_1         region_2  \\\n",
       "0      83   10.0   Australia Other  South Eastern Australia              NaN   \n",
       "1      89   15.0        Washington     Columbia Valley (WA)  Columbia Valley   \n",
       "2      94   80.0          Piedmont                   Barolo              NaN   \n",
       "3      87   22.0  Southwest France             Bergerac Sec              NaN   \n",
       "4      88   33.0      France Other           Vin de Liqueur              NaN   \n",
       "\n",
       "                    winery                     variety  \n",
       "0             Andrew Peace                  Chardonnay  \n",
       "1       North by Northwest                   Red Blend  \n",
       "2             Renato Ratti                    Nebbiolo  \n",
       "3  Domaine l'Ancienne Cure  Bordeaux-style White Blend  \n",
       "4         Château du Cèdre                      Malbec  "
      ]
     },
     "execution_count": 56,
     "metadata": {},
     "output_type": "execute_result"
    }
   ],
   "source": [
    "df.head()"
   ]
  },
  {
   "cell_type": "code",
   "execution_count": 57,
   "metadata": {},
   "outputs": [
    {
     "name": "stdout",
     "output_type": "stream",
     "text": [
      "<class 'pandas.core.frame.DataFrame'>\n",
      "RangeIndex: 82657 entries, 0 to 82656\n",
      "Data columns (total 12 columns):\n",
      " #   Column              Non-Null Count  Dtype  \n",
      "---  ------              --------------  -----  \n",
      " 0   user_name           63264 non-null  object \n",
      " 1   country             82622 non-null  object \n",
      " 2   review_title        82657 non-null  object \n",
      " 3   review_description  82657 non-null  object \n",
      " 4   designation         59010 non-null  object \n",
      " 5   points              82657 non-null  int64  \n",
      " 6   price               77088 non-null  float64\n",
      " 7   province            82622 non-null  object \n",
      " 8   region_1            69903 non-null  object \n",
      " 9   region_2            35949 non-null  object \n",
      " 10  winery              82657 non-null  object \n",
      " 11  variety             82657 non-null  object \n",
      "dtypes: float64(1), int64(1), object(10)\n",
      "memory usage: 7.6+ MB\n"
     ]
    }
   ],
   "source": [
    "df.info()"
   ]
  },
  {
   "cell_type": "code",
   "execution_count": 58,
   "metadata": {},
   "outputs": [
    {
     "data": {
      "text/html": [
       "<div>\n",
       "<style scoped>\n",
       "    .dataframe tbody tr th:only-of-type {\n",
       "        vertical-align: middle;\n",
       "    }\n",
       "\n",
       "    .dataframe tbody tr th {\n",
       "        vertical-align: top;\n",
       "    }\n",
       "\n",
       "    .dataframe thead th {\n",
       "        text-align: right;\n",
       "    }\n",
       "</style>\n",
       "<table border=\"1\" class=\"dataframe\">\n",
       "  <thead>\n",
       "    <tr style=\"text-align: right;\">\n",
       "      <th></th>\n",
       "      <th>user_name</th>\n",
       "      <th>country</th>\n",
       "      <th>review_title</th>\n",
       "      <th>review_description</th>\n",
       "      <th>designation</th>\n",
       "      <th>points</th>\n",
       "      <th>price</th>\n",
       "      <th>province</th>\n",
       "      <th>region_1</th>\n",
       "      <th>region_2</th>\n",
       "      <th>winery</th>\n",
       "      <th>variety</th>\n",
       "    </tr>\n",
       "  </thead>\n",
       "  <tbody>\n",
       "    <tr>\n",
       "      <th>6</th>\n",
       "      <td>@wawinereport</td>\n",
       "      <td>US</td>\n",
       "      <td>Gordon Estate 2012 Tradition Red (Columbia Val...</td>\n",
       "      <td>Half Syrah and half Cabernet Sauvignon, with 4...</td>\n",
       "      <td>Tradition</td>\n",
       "      <td>91</td>\n",
       "      <td>45.0</td>\n",
       "      <td>Washington</td>\n",
       "      <td>Columbia Valley (WA)</td>\n",
       "      <td>Columbia Valley</td>\n",
       "      <td>Gordon Estate</td>\n",
       "      <td>Red Blend</td>\n",
       "    </tr>\n",
       "    <tr>\n",
       "      <th>7</th>\n",
       "      <td>@vboone</td>\n",
       "      <td>US</td>\n",
       "      <td>Rock Wall 2014 Monte Rosso Reserve Zinfandel (...</td>\n",
       "      <td>High-toned red fruit stars in this wine, a nic...</td>\n",
       "      <td>Monte Rosso Reserve</td>\n",
       "      <td>90</td>\n",
       "      <td>50.0</td>\n",
       "      <td>California</td>\n",
       "      <td>Sonoma County</td>\n",
       "      <td>Sonoma</td>\n",
       "      <td>Rock Wall</td>\n",
       "      <td>Zinfandel</td>\n",
       "    </tr>\n",
       "    <tr>\n",
       "      <th>8</th>\n",
       "      <td>@paulgwine</td>\n",
       "      <td>US</td>\n",
       "      <td>Elizabeth Chambers 2014 Falcon Glen Vineyard P...</td>\n",
       "      <td>Displaying typical McMinnville AVA subtlety, t...</td>\n",
       "      <td>Falcon Glen Vineyard</td>\n",
       "      <td>91</td>\n",
       "      <td>48.0</td>\n",
       "      <td>Oregon</td>\n",
       "      <td>McMinnville</td>\n",
       "      <td>Willamette Valley</td>\n",
       "      <td>Elizabeth Chambers</td>\n",
       "      <td>Pinot Noir</td>\n",
       "    </tr>\n",
       "    <tr>\n",
       "      <th>10</th>\n",
       "      <td>@vboone</td>\n",
       "      <td>US</td>\n",
       "      <td>Cuvaison 2014 Estate Grown Sauvignon Blanc (Ca...</td>\n",
       "      <td>With an alluring bouquet of fresh-cut jasmine ...</td>\n",
       "      <td>Estate Grown</td>\n",
       "      <td>90</td>\n",
       "      <td>18.0</td>\n",
       "      <td>California</td>\n",
       "      <td>Carneros</td>\n",
       "      <td>Napa-Sonoma</td>\n",
       "      <td>Cuvaison</td>\n",
       "      <td>Sauvignon Blanc</td>\n",
       "    </tr>\n",
       "    <tr>\n",
       "      <th>34</th>\n",
       "      <td>@paulgwine</td>\n",
       "      <td>US</td>\n",
       "      <td>Durant 2013 Raven Chardonnay (Dundee Hills)</td>\n",
       "      <td>Peach pit, apple and pear fruit flavors combin...</td>\n",
       "      <td>Raven</td>\n",
       "      <td>92</td>\n",
       "      <td>25.0</td>\n",
       "      <td>Oregon</td>\n",
       "      <td>Dundee Hills</td>\n",
       "      <td>Willamette Valley</td>\n",
       "      <td>Durant</td>\n",
       "      <td>Chardonnay</td>\n",
       "    </tr>\n",
       "    <tr>\n",
       "      <th>...</th>\n",
       "      <td>...</td>\n",
       "      <td>...</td>\n",
       "      <td>...</td>\n",
       "      <td>...</td>\n",
       "      <td>...</td>\n",
       "      <td>...</td>\n",
       "      <td>...</td>\n",
       "      <td>...</td>\n",
       "      <td>...</td>\n",
       "      <td>...</td>\n",
       "      <td>...</td>\n",
       "      <td>...</td>\n",
       "    </tr>\n",
       "    <tr>\n",
       "      <th>82630</th>\n",
       "      <td>@vboone</td>\n",
       "      <td>US</td>\n",
       "      <td>Yorkville Cellars 2010 Randle Hill Vineyard Sa...</td>\n",
       "      <td>A glass of pretty aromatics, grapefruit and or...</td>\n",
       "      <td>Randle Hill Vineyard</td>\n",
       "      <td>88</td>\n",
       "      <td>18.0</td>\n",
       "      <td>California</td>\n",
       "      <td>Yorkville Highlands</td>\n",
       "      <td>North Coast</td>\n",
       "      <td>Yorkville Cellars</td>\n",
       "      <td>Sauvignon Blanc</td>\n",
       "    </tr>\n",
       "    <tr>\n",
       "      <th>82632</th>\n",
       "      <td>@vboone</td>\n",
       "      <td>US</td>\n",
       "      <td>un4seen 2009 Red blend Red (California)</td>\n",
       "      <td>Dark like a cave in color, this big red blend ...</td>\n",
       "      <td>Red blend</td>\n",
       "      <td>85</td>\n",
       "      <td>10.0</td>\n",
       "      <td>California</td>\n",
       "      <td>California</td>\n",
       "      <td>California Other</td>\n",
       "      <td>un4seen</td>\n",
       "      <td>Red Blend</td>\n",
       "    </tr>\n",
       "    <tr>\n",
       "      <th>82639</th>\n",
       "      <td>@paulgwine</td>\n",
       "      <td>US</td>\n",
       "      <td>Archery Summit 2012 Red Hills Estate Pinot Noi...</td>\n",
       "      <td>Showing a light whiff of funk, this seems a bi...</td>\n",
       "      <td>Red Hills Estate</td>\n",
       "      <td>92</td>\n",
       "      <td>85.0</td>\n",
       "      <td>Oregon</td>\n",
       "      <td>Dundee Hills</td>\n",
       "      <td>Willamette Valley</td>\n",
       "      <td>Archery Summit</td>\n",
       "      <td>Pinot Noir</td>\n",
       "    </tr>\n",
       "    <tr>\n",
       "      <th>82641</th>\n",
       "      <td>@gordone_cellars</td>\n",
       "      <td>US</td>\n",
       "      <td>The Withers Winery 2013 Mr. Burgess Red (El Do...</td>\n",
       "      <td>Imposing, concentrated and tannic, this Syrah-...</td>\n",
       "      <td>Mr. Burgess</td>\n",
       "      <td>92</td>\n",
       "      <td>36.0</td>\n",
       "      <td>California</td>\n",
       "      <td>El Dorado</td>\n",
       "      <td>Sierra Foothills</td>\n",
       "      <td>The Withers Winery</td>\n",
       "      <td>Rhône-style Red Blend</td>\n",
       "    </tr>\n",
       "    <tr>\n",
       "      <th>82642</th>\n",
       "      <td>@vboone</td>\n",
       "      <td>US</td>\n",
       "      <td>Peter Cellars 2013 Estate Rosé of Pinot Noir (...</td>\n",
       "      <td>Pinkish-gold in color, this is a faint, dry an...</td>\n",
       "      <td>Estate Rosé of</td>\n",
       "      <td>86</td>\n",
       "      <td>25.0</td>\n",
       "      <td>California</td>\n",
       "      <td>Carneros</td>\n",
       "      <td>Napa-Sonoma</td>\n",
       "      <td>Peter Cellars</td>\n",
       "      <td>Pinot Noir</td>\n",
       "    </tr>\n",
       "  </tbody>\n",
       "</table>\n",
       "<p>15986 rows × 12 columns</p>\n",
       "</div>"
      ],
      "text/plain": [
       "              user_name country  \\\n",
       "6         @wawinereport      US   \n",
       "7               @vboone      US   \n",
       "8           @paulgwine       US   \n",
       "10              @vboone      US   \n",
       "34          @paulgwine       US   \n",
       "...                 ...     ...   \n",
       "82630           @vboone      US   \n",
       "82632           @vboone      US   \n",
       "82639       @paulgwine       US   \n",
       "82641  @gordone_cellars      US   \n",
       "82642           @vboone      US   \n",
       "\n",
       "                                            review_title  \\\n",
       "6      Gordon Estate 2012 Tradition Red (Columbia Val...   \n",
       "7      Rock Wall 2014 Monte Rosso Reserve Zinfandel (...   \n",
       "8      Elizabeth Chambers 2014 Falcon Glen Vineyard P...   \n",
       "10     Cuvaison 2014 Estate Grown Sauvignon Blanc (Ca...   \n",
       "34           Durant 2013 Raven Chardonnay (Dundee Hills)   \n",
       "...                                                  ...   \n",
       "82630  Yorkville Cellars 2010 Randle Hill Vineyard Sa...   \n",
       "82632            un4seen 2009 Red blend Red (California)   \n",
       "82639  Archery Summit 2012 Red Hills Estate Pinot Noi...   \n",
       "82641  The Withers Winery 2013 Mr. Burgess Red (El Do...   \n",
       "82642  Peter Cellars 2013 Estate Rosé of Pinot Noir (...   \n",
       "\n",
       "                                      review_description  \\\n",
       "6      Half Syrah and half Cabernet Sauvignon, with 4...   \n",
       "7      High-toned red fruit stars in this wine, a nic...   \n",
       "8      Displaying typical McMinnville AVA subtlety, t...   \n",
       "10     With an alluring bouquet of fresh-cut jasmine ...   \n",
       "34     Peach pit, apple and pear fruit flavors combin...   \n",
       "...                                                  ...   \n",
       "82630  A glass of pretty aromatics, grapefruit and or...   \n",
       "82632  Dark like a cave in color, this big red blend ...   \n",
       "82639  Showing a light whiff of funk, this seems a bi...   \n",
       "82641  Imposing, concentrated and tannic, this Syrah-...   \n",
       "82642  Pinkish-gold in color, this is a faint, dry an...   \n",
       "\n",
       "                designation  points  price    province              region_1  \\\n",
       "6                 Tradition      91   45.0  Washington  Columbia Valley (WA)   \n",
       "7       Monte Rosso Reserve      90   50.0  California         Sonoma County   \n",
       "8      Falcon Glen Vineyard      91   48.0      Oregon           McMinnville   \n",
       "10             Estate Grown      90   18.0  California              Carneros   \n",
       "34                    Raven      92   25.0      Oregon          Dundee Hills   \n",
       "...                     ...     ...    ...         ...                   ...   \n",
       "82630  Randle Hill Vineyard      88   18.0  California   Yorkville Highlands   \n",
       "82632             Red blend      85   10.0  California            California   \n",
       "82639      Red Hills Estate      92   85.0      Oregon          Dundee Hills   \n",
       "82641           Mr. Burgess      92   36.0  California             El Dorado   \n",
       "82642        Estate Rosé of      86   25.0  California              Carneros   \n",
       "\n",
       "                region_2              winery                variety  \n",
       "6        Columbia Valley       Gordon Estate              Red Blend  \n",
       "7                 Sonoma           Rock Wall              Zinfandel  \n",
       "8      Willamette Valley  Elizabeth Chambers             Pinot Noir  \n",
       "10           Napa-Sonoma            Cuvaison        Sauvignon Blanc  \n",
       "34     Willamette Valley              Durant             Chardonnay  \n",
       "...                  ...                 ...                    ...  \n",
       "82630        North Coast   Yorkville Cellars        Sauvignon Blanc  \n",
       "82632   California Other             un4seen              Red Blend  \n",
       "82639  Willamette Valley      Archery Summit             Pinot Noir  \n",
       "82641   Sierra Foothills  The Withers Winery  Rhône-style Red Blend  \n",
       "82642        Napa-Sonoma       Peter Cellars             Pinot Noir  \n",
       "\n",
       "[15986 rows x 12 columns]"
      ]
     },
     "execution_count": 58,
     "metadata": {},
     "output_type": "execute_result"
    }
   ],
   "source": [
    "df.dropna(axis=0)"
   ]
  },
  {
   "cell_type": "code",
   "execution_count": 59,
   "metadata": {},
   "outputs": [],
   "source": [
    "input_data = df['review_description']\n",
    "output_data = df['variety']"
   ]
  },
  {
   "cell_type": "code",
   "execution_count": 60,
   "metadata": {},
   "outputs": [
    {
     "name": "stdout",
     "output_type": "stream",
     "text": [
      "There are 28 varieties of wines in this dataset\n"
     ]
    }
   ],
   "source": [
    "print ('There are %d varieties of wines in this dataset' % len(set(output_data)))"
   ]
  },
  {
   "cell_type": "code",
   "execution_count": 61,
   "metadata": {},
   "outputs": [
    {
     "data": {
      "text/plain": [
       "array([ 5, 17, 11, ...,  6,  0,  3])"
      ]
     },
     "execution_count": 61,
     "metadata": {},
     "output_type": "execute_result"
    }
   ],
   "source": [
    "labelEncoder = LabelEncoder()\n",
    "output_data = labelEncoder.fit_transform(output_data)\n",
    "output_data"
   ]
  },
  {
   "cell_type": "code",
   "execution_count": 62,
   "metadata": {},
   "outputs": [],
   "source": [
    "input_data = input_data.str.lower()"
   ]
  },
  {
   "cell_type": "code",
   "execution_count": 63,
   "metadata": {},
   "outputs": [],
   "source": [
    "list_aux = []\n",
    "for phase_word in input_data:\n",
    "    list_aux.append(' '.join([re.sub('[0-9\\W_]', '', word) for word in phase_word.split() if not word in sw]))\n",
    "input_data = list_aux"
   ]
  },
  {
   "cell_type": "code",
   "execution_count": 64,
   "metadata": {},
   "outputs": [],
   "source": [
    "countVectorizer = CountVectorizer()\n",
    "input_data = countVectorizer.fit_transform(input_data)"
   ]
  },
  {
   "cell_type": "code",
   "execution_count": 65,
   "metadata": {},
   "outputs": [],
   "source": [
    "X_train, X_test, y_train, y_test = train_test_split(input_data, output_data, test_size=0.2) "
   ]
  },
  {
   "cell_type": "code",
   "execution_count": 83,
   "metadata": {},
   "outputs": [
    {
     "name": "stdout",
     "output_type": "stream",
     "text": [
      "Epoch 1/2\n",
      "66125/66125 [==============================] - 867s 13ms/step - loss: 1.2431 - acc: 0.6308\n",
      "Epoch 2/2\n",
      "66125/66125 [==============================] - 902s 14ms/step - loss: 0.6568 - acc: 0.7970\n"
     ]
    },
    {
     "data": {
      "text/plain": [
       "<keras.callbacks.History at 0x7fa87fcc3128>"
      ]
     },
     "execution_count": 83,
     "metadata": {},
     "output_type": "execute_result"
    }
   ],
   "source": [
    "model = Sequential()\n",
    "model.add(Dense(100, activation='relu', input_dim=len(countVectorizer.get_feature_names())))\n",
    "model.add(Dense(units=output_data.max()+1, activation='sigmoid'))\n",
    "model.compile(loss='sparse_categorical_crossentropy', optimizer='adam', metrics=['accuracy'])\n",
    "model.fit(X_train, y_train, epochs=2, verbose=1)"
   ]
  },
  {
   "cell_type": "code",
   "execution_count": 84,
   "metadata": {},
   "outputs": [
    {
     "name": "stdout",
     "output_type": "stream",
     "text": [
      "16532/16532 [==============================] - 23s 1ms/step\n",
      "The accuracy of the model is 0.701004113206095\n"
     ]
    }
   ],
   "source": [
    "scores = model.evaluate(X_test, y_test, verbose=1)\n",
    "print ('The accuracy of the model is %s' % scores[1])"
   ]
  },
  {
   "cell_type": "code",
   "execution_count": 85,
   "metadata": {},
   "outputs": [
    {
     "data": {
      "text/plain": [
       "[0.9815582757765694, 0.701004113206095]"
      ]
     },
     "execution_count": 85,
     "metadata": {},
     "output_type": "execute_result"
    }
   ],
   "source": [
    "scores"
   ]
  },
  {
   "cell_type": "code",
   "execution_count": 86,
   "metadata": {},
   "outputs": [],
   "source": [
    "test_df=pd.read_csv('test.csv')"
   ]
  },
  {
   "cell_type": "code",
   "execution_count": 87,
   "metadata": {},
   "outputs": [
    {
     "data": {
      "text/html": [
       "<div>\n",
       "<style scoped>\n",
       "    .dataframe tbody tr th:only-of-type {\n",
       "        vertical-align: middle;\n",
       "    }\n",
       "\n",
       "    .dataframe tbody tr th {\n",
       "        vertical-align: top;\n",
       "    }\n",
       "\n",
       "    .dataframe thead th {\n",
       "        text-align: right;\n",
       "    }\n",
       "</style>\n",
       "<table border=\"1\" class=\"dataframe\">\n",
       "  <thead>\n",
       "    <tr style=\"text-align: right;\">\n",
       "      <th></th>\n",
       "      <th>user_name</th>\n",
       "      <th>country</th>\n",
       "      <th>review_title</th>\n",
       "      <th>review_description</th>\n",
       "      <th>designation</th>\n",
       "      <th>points</th>\n",
       "      <th>price</th>\n",
       "      <th>province</th>\n",
       "      <th>region_1</th>\n",
       "      <th>region_2</th>\n",
       "      <th>winery</th>\n",
       "    </tr>\n",
       "  </thead>\n",
       "  <tbody>\n",
       "    <tr>\n",
       "      <th>0</th>\n",
       "      <td>@paulgwine</td>\n",
       "      <td>US</td>\n",
       "      <td>Boedecker Cellars 2011 Athena Pinot Noir (Will...</td>\n",
       "      <td>Nicely differentiated from the companion Stewa...</td>\n",
       "      <td>Athena</td>\n",
       "      <td>88</td>\n",
       "      <td>35.0</td>\n",
       "      <td>Oregon</td>\n",
       "      <td>Willamette Valley</td>\n",
       "      <td>Willamette Valley</td>\n",
       "      <td>Boedecker Cellars</td>\n",
       "    </tr>\n",
       "    <tr>\n",
       "      <th>1</th>\n",
       "      <td>@wineschach</td>\n",
       "      <td>Argentina</td>\n",
       "      <td>Mendoza Vineyards 2012 Gran Reserva by Richard...</td>\n",
       "      <td>Charred, smoky, herbal aromas of blackberry tr...</td>\n",
       "      <td>Gran Reserva by Richard Bonvin</td>\n",
       "      <td>90</td>\n",
       "      <td>60.0</td>\n",
       "      <td>Mendoza Province</td>\n",
       "      <td>Mendoza</td>\n",
       "      <td>NaN</td>\n",
       "      <td>Mendoza Vineyards</td>\n",
       "    </tr>\n",
       "    <tr>\n",
       "      <th>2</th>\n",
       "      <td>@vboone</td>\n",
       "      <td>US</td>\n",
       "      <td>Prime 2013 Chardonnay (Coombsville)</td>\n",
       "      <td>Slightly sour and funky in earth, this is a re...</td>\n",
       "      <td>NaN</td>\n",
       "      <td>87</td>\n",
       "      <td>38.0</td>\n",
       "      <td>California</td>\n",
       "      <td>Coombsville</td>\n",
       "      <td>Napa</td>\n",
       "      <td>Prime</td>\n",
       "    </tr>\n",
       "    <tr>\n",
       "      <th>3</th>\n",
       "      <td>@wineschach</td>\n",
       "      <td>Argentina</td>\n",
       "      <td>Bodega Cuarto Dominio 2012 Chento Vineyard Sel...</td>\n",
       "      <td>This concentrated, midnight-black Malbec deliv...</td>\n",
       "      <td>Chento Vineyard Selection</td>\n",
       "      <td>91</td>\n",
       "      <td>20.0</td>\n",
       "      <td>Mendoza Province</td>\n",
       "      <td>Mendoza</td>\n",
       "      <td>NaN</td>\n",
       "      <td>Bodega Cuarto Dominio</td>\n",
       "    </tr>\n",
       "    <tr>\n",
       "      <th>4</th>\n",
       "      <td>@kerinokeefe</td>\n",
       "      <td>Italy</td>\n",
       "      <td>SassodiSole 2012  Brunello di Montalcino</td>\n",
       "      <td>Earthy aromas suggesting grilled porcini, leat...</td>\n",
       "      <td>NaN</td>\n",
       "      <td>90</td>\n",
       "      <td>49.0</td>\n",
       "      <td>Tuscany</td>\n",
       "      <td>Brunello di Montalcino</td>\n",
       "      <td>NaN</td>\n",
       "      <td>SassodiSole</td>\n",
       "    </tr>\n",
       "  </tbody>\n",
       "</table>\n",
       "</div>"
      ],
      "text/plain": [
       "      user_name    country                                       review_title  \\\n",
       "0   @paulgwine          US  Boedecker Cellars 2011 Athena Pinot Noir (Will...   \n",
       "1   @wineschach  Argentina  Mendoza Vineyards 2012 Gran Reserva by Richard...   \n",
       "2       @vboone         US                Prime 2013 Chardonnay (Coombsville)   \n",
       "3   @wineschach  Argentina  Bodega Cuarto Dominio 2012 Chento Vineyard Sel...   \n",
       "4  @kerinokeefe      Italy           SassodiSole 2012  Brunello di Montalcino   \n",
       "\n",
       "                                  review_description  \\\n",
       "0  Nicely differentiated from the companion Stewa...   \n",
       "1  Charred, smoky, herbal aromas of blackberry tr...   \n",
       "2  Slightly sour and funky in earth, this is a re...   \n",
       "3  This concentrated, midnight-black Malbec deliv...   \n",
       "4  Earthy aromas suggesting grilled porcini, leat...   \n",
       "\n",
       "                      designation  points  price          province  \\\n",
       "0                          Athena      88   35.0            Oregon   \n",
       "1  Gran Reserva by Richard Bonvin      90   60.0  Mendoza Province   \n",
       "2                             NaN      87   38.0        California   \n",
       "3       Chento Vineyard Selection      91   20.0  Mendoza Province   \n",
       "4                             NaN      90   49.0           Tuscany   \n",
       "\n",
       "                 region_1           region_2                 winery  \n",
       "0       Willamette Valley  Willamette Valley      Boedecker Cellars  \n",
       "1                 Mendoza                NaN      Mendoza Vineyards  \n",
       "2             Coombsville               Napa                  Prime  \n",
       "3                 Mendoza                NaN  Bodega Cuarto Dominio  \n",
       "4  Brunello di Montalcino                NaN            SassodiSole  "
      ]
     },
     "execution_count": 87,
     "metadata": {},
     "output_type": "execute_result"
    }
   ],
   "source": [
    "test_df.head()"
   ]
  },
  {
   "cell_type": "code",
   "execution_count": 130,
   "metadata": {},
   "outputs": [],
   "source": [
    "input_test=test_df['review_description']"
   ]
  },
  {
   "cell_type": "code",
   "execution_count": 131,
   "metadata": {},
   "outputs": [],
   "source": [
    "input_test=input_test.str.lower()"
   ]
  },
  {
   "cell_type": "code",
   "execution_count": 132,
   "metadata": {},
   "outputs": [],
   "source": [
    "list_test = []\n",
    "for phase_word in input_test:\n",
    "    list_test.append(' '.join([re.sub('[0-9\\W_]', '', word) for word in phase_word.split() if not word in sw]))\n",
    "input_test = list_test"
   ]
  },
  {
   "cell_type": "code",
   "execution_count": 133,
   "metadata": {},
   "outputs": [],
   "source": [
    "counttest = CountVectorizer()\n",
    "input_test = counttest.fit_transform(input_test)"
   ]
  },
  {
   "cell_type": "code",
   "execution_count": 134,
   "metadata": {},
   "outputs": [
    {
     "data": {
      "text/plain": [
       "scipy.sparse.csr.csr_matrix"
      ]
     },
     "execution_count": 134,
     "metadata": {},
     "output_type": "execute_result"
    }
   ],
   "source": [
    "type(input_test)"
   ]
  },
  {
   "cell_type": "code",
   "execution_count": 135,
   "metadata": {},
   "outputs": [],
   "source": [
    "input_test.resize((input_test.shape[0],X_test.shape[1]))"
   ]
  },
  {
   "cell_type": "code",
   "execution_count": 136,
   "metadata": {},
   "outputs": [
    {
     "data": {
      "text/plain": [
       "(20665, 35458)"
      ]
     },
     "execution_count": 136,
     "metadata": {},
     "output_type": "execute_result"
    }
   ],
   "source": [
    "input_test.shape"
   ]
  },
  {
   "cell_type": "code",
   "execution_count": 137,
   "metadata": {},
   "outputs": [],
   "source": [
    "predictions = model.predict(input_test)"
   ]
  },
  {
   "cell_type": "code",
   "execution_count": null,
   "metadata": {},
   "outputs": [],
   "source": [
    "le = LabelEncoder()\n",
    "pred = labelEncoder.fit_transform(predictions)\n",
    "result = le.inverse_transform(pred)"
   ]
  },
  {
   "cell_type": "code",
   "execution_count": 138,
   "metadata": {},
   "outputs": [
    {
     "name": "stdout",
     "output_type": "stream",
     "text": [
      "[0.00515525 0.00952061 0.02666298 0.01927144 0.02510954 0.6901496\n",
      " 0.0029184  0.00919404 0.01261213 0.00502741 0.00628818 0.00732315\n",
      " 0.00888516 0.00536352 0.06395424 0.00485324 0.00889279 0.01234847\n",
      " 0.00397713 0.08343011 0.0089538  0.01292912 0.11315057 0.01089418\n",
      " 0.05954099 0.00321521 0.00569425 0.00998687]\n",
      "[3.37826414e-03 1.32248625e-02 7.25165056e-03 2.00434756e-02\n",
      " 1.54984242e-03 8.27766657e-01 3.11085256e-04 1.95218460e-03\n",
      " 1.29311916e-03 4.12060320e-03 2.51419563e-03 1.06791907e-03\n",
      " 7.30229076e-03 2.41912156e-03 8.40586796e-03 6.71228277e-04\n",
      " 6.32658321e-03 1.29299155e-02 1.17324770e-03 5.21490350e-03\n",
      " 2.45722886e-02 1.80455134e-03 8.96003619e-02 6.53259596e-03\n",
      " 3.90097476e-03 6.85220584e-04 4.04136404e-02 2.85256142e-03]\n",
      "[0.00167241 0.000308   0.00198003 0.09906278 0.00176234 0.09721117\n",
      " 0.00033947 0.00140155 0.00032972 0.00529736 0.03186064 0.0063559\n",
      " 0.00575782 0.00194927 0.0678307  0.00029462 0.00021004 0.03232905\n",
      " 0.00080623 0.00282681 0.00237039 0.00895867 0.00840483 0.00849395\n",
      " 0.00323962 0.0038568  0.05773566 0.00630128]\n",
      "[0.01220901 0.01009688 0.03587822 0.05995155 0.02584548 0.7034912\n",
      " 0.00121881 0.01143353 0.01551459 0.01427073 0.1117677  0.02525936\n",
      " 0.04520455 0.02328454 0.04336402 0.00236987 0.00725369 0.07580774\n",
      " 0.00350368 0.02470189 0.01000834 0.02993615 0.03009893 0.06774861\n",
      " 0.01766466 0.01017627 0.02456798 0.03444522]\n",
      "[0.17628476 0.00117622 0.03055032 0.26078126 0.01083602 0.01424483\n",
      " 0.00421574 0.00128195 0.00178717 0.02729884 0.24014118 0.00774096\n",
      " 0.0085165  0.00152501 0.03549679 0.01829831 0.00244794 0.25522274\n",
      " 0.01067534 0.00178411 0.01091274 0.02224909 0.00165077 0.0076231\n",
      " 0.00954986 0.01966221 0.00130646 0.02745263]\n",
      "[0.07014698 0.05353914 0.0528621  0.04188897 0.04130917 0.08516829\n",
      " 0.03073462 0.04196984 0.01838666 0.02530034 0.0646131  0.00523403\n",
      " 0.04789095 0.07370638 0.06775614 0.29925427 0.24816766 0.04937312\n",
      " 0.01808607 0.02414069 0.19972321 0.00678167 0.04696155 0.01328844\n",
      " 0.0279879  0.02306452 0.00825423 0.01752979]\n",
      "[0.00438772 0.00356918 0.01793437 0.10476613 0.00247337 0.08172856\n",
      " 0.00123285 0.00423362 0.00518163 0.01395839 0.13972907 0.01699588\n",
      " 0.01029739 0.00256075 0.01090341 0.00128826 0.00273899 0.03242801\n",
      " 0.00439748 0.00423471 0.01181516 0.00919364 0.04722768 0.0139885\n",
      " 0.0353404  0.02283528 0.02460892 0.03466555]\n",
      "[0.02386174 0.05462515 0.04582706 0.0764622  0.01220852 0.04712692\n",
      " 0.00622928 0.03022869 0.23977076 0.02059752 0.04038434 0.01293189\n",
      " 0.02261231 0.02252175 0.02813977 0.01631558 0.01138011 0.01288769\n",
      " 0.00897809 0.03117139 0.01916821 0.01365443 0.07034601 0.07029548\n",
      " 0.04648382 0.00569851 0.02101041 0.11374739]\n",
      "[2.0341703e-03 1.1051790e-02 1.5941735e-02 3.7940215e-02 5.5550190e-04\n",
      " 4.3542978e-01 4.2283887e-04 1.0614672e-02 5.9228824e-03 8.5760094e-03\n",
      " 3.5446320e-02 5.3038163e-04 6.2120007e-03 6.2206467e-03 7.3730494e-03\n",
      " 8.1866037e-04 8.1036473e-03 2.9491754e-03 3.3395770e-03 3.0313669e-02\n",
      " 4.5169354e-03 3.4745823e-04 4.6418775e-02 4.5849737e-03 1.5409482e-02\n",
      " 3.8403394e-03 6.6752550e-03 2.3826456e-02]\n",
      "[0.14424883 0.0070808  0.01026831 0.00367122 0.10064257 0.19161609\n",
      " 0.00652762 0.00395658 0.00371146 0.00274106 0.02655063 0.01119028\n",
      " 0.01181687 0.00430454 0.09053028 0.00526427 0.00317481 0.04009698\n",
      " 0.00303669 0.00488608 0.0115321  0.02127651 0.00657277 0.1576065\n",
      " 0.00650009 0.01027498 0.00641494 0.00252835]\n"
     ]
    }
   ],
   "source": [
    "for i in range(10):\n",
    "    print(predictions[i])"
   ]
  },
  {
   "cell_type": "code",
   "execution_count": null,
   "metadata": {},
   "outputs": [],
   "source": []
  }
 ],
 "metadata": {
  "kernelspec": {
   "display_name": "Python",
   "language": "python",
   "name": "conda-env-python-py"
  },
  "language_info": {
   "codemirror_mode": {
    "name": "ipython",
    "version": 3
   },
   "file_extension": ".py",
   "mimetype": "text/x-python",
   "name": "python",
   "nbconvert_exporter": "python",
   "pygments_lexer": "ipython3",
   "version": "3.6.10"
  }
 },
 "nbformat": 4,
 "nbformat_minor": 4
}
